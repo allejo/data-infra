{
 "cells": [
  {
   "cell_type": "markdown",
   "id": "0a18344e",
   "metadata": {},
   "source": [
    "# Static Schedule Pipeline\n",
    "\n",
    "The Static Schedule Pipeline is a collection of the following DAGs\n",
    "\n",
    "DAG name | DAGs depended on | Run Frequency | Depends on Past DAG runs | Description\n",
    "--|--|--|--|--\n",
    "gtfs_downloader | | Daily | No | Downloads static GTFS Feeds\n",
    "gtfs_schedule_history | | Once | No | Creates datasets for use in BigQuery\n",
    "gtfs_loader | gtfs_downloader, gtfs_schedule_history | Daily | No | Loads and parses the raw contents of downloaded GTFS Feeds\n",
    "gtfs_schedule_history2 | gtfs_loader | Daily | Yes | Analyzes the current day's result and creates data about any changes in feed contents\n",
    "gtfs_views_staging | gtfs_schedule_history2 | Daily | No | Creates staging tables for various view (Dimension and Fact) tables\n",
    "gtfs_views | gtfs_views_staging | Daily | No | Creates view (Dimension and Fact) tables"
   ]
  }
 ],
 "metadata": {
  "jupytext": {
   "cell_metadata_filter": "-all",
   "formats": "md:myst",
   "text_representation": {
    "extension": ".md",
    "format_name": "myst",
    "format_version": 0.13,
    "jupytext_version": "1.10.3"
   }
  },
  "kernelspec": {
   "display_name": "Python 3 (ipykernel)",
   "language": "python",
   "name": "python3"
  },
  "language_info": {
   "codemirror_mode": {
    "name": "ipython",
    "version": 3
   },
   "file_extension": ".py",
   "mimetype": "text/x-python",
   "name": "python",
   "nbconvert_exporter": "python",
   "pygments_lexer": "ipython3",
   "version": "3.8.12"
  },
  "source_map": [
   14
  ]
 },
 "nbformat": 4,
 "nbformat_minor": 5
}