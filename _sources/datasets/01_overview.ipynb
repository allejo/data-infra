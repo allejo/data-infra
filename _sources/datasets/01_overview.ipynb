{
 "cells": [
  {
   "cell_type": "markdown",
   "id": "eab1f268",
   "metadata": {},
   "source": [
    "# Overview\n",
    "\n",
    "| page | description | datasets |\n",
    "| ---- | ----------- | -------- |\n",
    "| [GTFS Schedule](./gtfs_schedule.md) | GTFS Schedule data for the current day | `gtfs_schedule`, `gtfs_schedule_history`, `gtfs_schedule_type2` |\n",
    "| [MST Payments](./mst_payments.md) | TODO | TODO |\n",
    "| [Transitstacks](./transitstacks.md) | TODO | `transitstacks`, `views.transitstacks` |\n",
    "| [Views](./views.md) | End-user friendly data for dashboards and metrics | E.g. `views.validation_*`, `views.gtfs_schedule_*` |\n",
    "\n",
    "## Querying data\n",
    "### Using metabase dashboards\n",
    "<div style=\"position: relative; padding-bottom: 62.5%; height: 0;\"><iframe src=\"https://www.loom.com/embed/1dc0c085b12b4848a52523ef34397f71\" frameborder=\"0\" webkitallowfullscreen mozallowfullscreen allowfullscreen style=\"position: absolute; top: 0; left: 0; width: 100%; height: 100%;\"></iframe></div>\n",
    "\n",
    "### Using Siuba\n",
    "Siuba is a tool that allows the same analysis code to run on a pandas DataFrame,\n",
    "as well as generate SQL for different databases.\n",
    "It supports most [pandas Series methods](https://pandas.pydata.org/pandas-docs/stable/reference/series.html) analysts use.\n",
    "See the [siuba docs](https://siuba.readthedocs.io) for more information.\n",
    "\n",
    "The examples below go through the basics of using siuba, collecting a database query to a local DataFrame,\n",
    "and showing SQL test queries that siuba code generates.\n",
    "\n",
    "#### Basic Query"
   ]
  },
  {
   "cell_type": "code",
   "execution_count": 1,
   "id": "4f709e9c",
   "metadata": {},
   "outputs": [
    {
     "data": {
      "text/html": [
       "<div><pre># Source: lazy query\n",
       "# DB Conn: Engine(bigquery://cal-itp-data-infra/?maximum_bytes_billed=5000000000)\n",
       "# Preview:\n",
       "</pre><div>\n",
       "<style scoped>\n",
       "    .dataframe tbody tr th:only-of-type {\n",
       "        vertical-align: middle;\n",
       "    }\n",
       "\n",
       "    .dataframe tbody tr th {\n",
       "        vertical-align: top;\n",
       "    }\n",
       "\n",
       "    .dataframe thead th {\n",
       "        text-align: right;\n",
       "    }\n",
       "</style>\n",
       "<table border=\"1\" class=\"dataframe\">\n",
       "  <thead>\n",
       "    <tr style=\"text-align: right;\">\n",
       "      <th></th>\n",
       "      <th>code</th>\n",
       "      <th>n</th>\n",
       "    </tr>\n",
       "  </thead>\n",
       "  <tbody>\n",
       "    <tr>\n",
       "      <th>0</th>\n",
       "      <td>unknown_file</td>\n",
       "      <td>4</td>\n",
       "    </tr>\n",
       "    <tr>\n",
       "      <th>1</th>\n",
       "      <td>decreasing_or_equal_shape_distance</td>\n",
       "      <td>2</td>\n",
       "    </tr>\n",
       "    <tr>\n",
       "      <th>2</th>\n",
       "      <td>unused_shape</td>\n",
       "      <td>1</td>\n",
       "    </tr>\n",
       "  </tbody>\n",
       "</table>\n",
       "</div><p># .. may have more rows</p></div>"
      ],
      "text/plain": [
       "# Source: lazy query\n",
       "# DB Conn: Engine(bigquery://cal-itp-data-infra/?maximum_bytes_billed=5000000000)\n",
       "# Preview:\n",
       "                                 code  n\n",
       "0                        unknown_file  4\n",
       "1  decreasing_or_equal_shape_distance  2\n",
       "2                        unused_shape  1\n",
       "# .. may have more rows"
      ]
     },
     "execution_count": 1,
     "metadata": {},
     "output_type": "execute_result"
    }
   ],
   "source": [
    "from myst_nb import glue\n",
    "from calitp.tables import tbl\n",
    "from siuba import _, filter, count, collect, show_query\n",
    "\n",
    "# query lastest validation notices, then filter for a single gtfs feed,\n",
    "# and then count how often each code occurs\n",
    "(tbl.views.validation_notices()\n",
    "    >> filter(_.calitp_itp_id == 10, _.calitp_url_number==0)\n",
    "    >> count(_.code)\n",
    ")"
   ]
  },
  {
   "cell_type": "markdown",
   "id": "62f1e32a",
   "metadata": {},
   "source": [
    "#### Collect Query Results\n",
    "Note that siuba by default prints out a preview of the SQL query results.\n",
    "In order to fetch the results of the query as a pandas DataFrame, run `collect()`."
   ]
  },
  {
   "cell_type": "code",
   "execution_count": 2,
   "id": "8be6dede",
   "metadata": {},
   "outputs": [
    {
     "data": {
      "text/html": [
       "<div>\n",
       "<style scoped>\n",
       "    .dataframe tbody tr th:only-of-type {\n",
       "        vertical-align: middle;\n",
       "    }\n",
       "\n",
       "    .dataframe tbody tr th {\n",
       "        vertical-align: top;\n",
       "    }\n",
       "\n",
       "    .dataframe thead th {\n",
       "        text-align: right;\n",
       "    }\n",
       "</style>\n",
       "<table border=\"1\" class=\"dataframe\">\n",
       "  <thead>\n",
       "    <tr style=\"text-align: right;\">\n",
       "      <th></th>\n",
       "      <th>calitp_itp_id</th>\n",
       "      <th>calitp_url_number</th>\n",
       "      <th>agency_name</th>\n",
       "    </tr>\n",
       "  </thead>\n",
       "  <tbody>\n",
       "    <tr>\n",
       "      <th>0</th>\n",
       "      <td>256</td>\n",
       "      <td>0</td>\n",
       "      <td>Porterville Transit</td>\n",
       "    </tr>\n",
       "    <tr>\n",
       "      <th>1</th>\n",
       "      <td>257</td>\n",
       "      <td>0</td>\n",
       "      <td>PresidiGo</td>\n",
       "    </tr>\n",
       "    <tr>\n",
       "      <th>2</th>\n",
       "      <td>259</td>\n",
       "      <td>0</td>\n",
       "      <td>Redding Area Bus Authority</td>\n",
       "    </tr>\n",
       "    <tr>\n",
       "      <th>3</th>\n",
       "      <td>4</td>\n",
       "      <td>0</td>\n",
       "      <td>AC Transit</td>\n",
       "    </tr>\n",
       "    <tr>\n",
       "      <th>4</th>\n",
       "      <td>260</td>\n",
       "      <td>0</td>\n",
       "      <td>Beach Cities Transit</td>\n",
       "    </tr>\n",
       "  </tbody>\n",
       "</table>\n",
       "</div>"
      ],
      "text/plain": [
       "   calitp_itp_id  calitp_url_number                 agency_name\n",
       "0            256                  0         Porterville Transit\n",
       "1            257                  0                   PresidiGo\n",
       "2            259                  0  Redding Area Bus Authority\n",
       "3              4                  0                  AC Transit\n",
       "4            260                  0        Beach Cities Transit"
      ]
     },
     "execution_count": 2,
     "metadata": {},
     "output_type": "execute_result"
    }
   ],
   "source": [
    "tbl_agency_names = tbl.views.gtfs_agency_names() >> collect()\n",
    "\n",
    "# Use pandas .head() method to show first 5 rows of data\n",
    "tbl_agency_names.head()\n"
   ]
  },
  {
   "cell_type": "markdown",
   "id": "98d2f500",
   "metadata": {},
   "source": [
    "#### Show Query SQL\n",
    "While `collect()` fetches query results, `show_query()` prints out the SQL code that siuba generates."
   ]
  },
  {
   "cell_type": "code",
   "execution_count": 3,
   "id": "676fd8db",
   "metadata": {},
   "outputs": [
    {
     "name": "stdout",
     "output_type": "stream",
     "text": [
      "SELECT `anon_1`.`calitp_itp_id`, `anon_1`.`calitp_url_number`, `anon_1`.`agency_name` \n",
      "FROM (SELECT calitp_itp_id, calitp_url_number, agency_name \n",
      "FROM `views.gtfs_agency_names`) AS `anon_1` \n",
      "WHERE regexp_contains(`anon_1`.`agency_name`, 'Metro')\n"
     ]
    },
    {
     "data": {
      "text/html": [
       "<div><pre># Source: lazy query\n",
       "# DB Conn: Engine(bigquery://cal-itp-data-infra/?maximum_bytes_billed=5000000000)\n",
       "# Preview:\n",
       "</pre><div>\n",
       "<style scoped>\n",
       "    .dataframe tbody tr th:only-of-type {\n",
       "        vertical-align: middle;\n",
       "    }\n",
       "\n",
       "    .dataframe tbody tr th {\n",
       "        vertical-align: top;\n",
       "    }\n",
       "\n",
       "    .dataframe thead th {\n",
       "        text-align: right;\n",
       "    }\n",
       "</style>\n",
       "<table border=\"1\" class=\"dataframe\">\n",
       "  <thead>\n",
       "    <tr style=\"text-align: right;\">\n",
       "      <th></th>\n",
       "      <th>calitp_itp_id</th>\n",
       "      <th>calitp_url_number</th>\n",
       "      <th>agency_name</th>\n",
       "    </tr>\n",
       "  </thead>\n",
       "  <tbody>\n",
       "    <tr>\n",
       "      <th>0</th>\n",
       "      <td>278</td>\n",
       "      <td>0</td>\n",
       "      <td>San Diego Metropolitan Transit System</td>\n",
       "    </tr>\n",
       "    <tr>\n",
       "      <th>1</th>\n",
       "      <td>293</td>\n",
       "      <td>0</td>\n",
       "      <td>Santa Barbara Metropolitan Transit District</td>\n",
       "    </tr>\n",
       "    <tr>\n",
       "      <th>2</th>\n",
       "      <td>296</td>\n",
       "      <td>0</td>\n",
       "      <td>Santa Cruz Metropolitan Transit District</td>\n",
       "    </tr>\n",
       "    <tr>\n",
       "      <th>3</th>\n",
       "      <td>323</td>\n",
       "      <td>0</td>\n",
       "      <td>Metrolink</td>\n",
       "    </tr>\n",
       "    <tr>\n",
       "      <th>4</th>\n",
       "      <td>182</td>\n",
       "      <td>1</td>\n",
       "      <td>Metro</td>\n",
       "    </tr>\n",
       "  </tbody>\n",
       "</table>\n",
       "</div><p># .. may have more rows</p></div>"
      ],
      "text/plain": [
       "# Source: lazy query\n",
       "# DB Conn: Engine(bigquery://cal-itp-data-infra/?maximum_bytes_billed=5000000000)\n",
       "# Preview:\n",
       "   calitp_itp_id  calitp_url_number  \\\n",
       "0            278                  0   \n",
       "1            293                  0   \n",
       "2            296                  0   \n",
       "3            323                  0   \n",
       "4            182                  1   \n",
       "\n",
       "                                   agency_name  \n",
       "0        San Diego Metropolitan Transit System  \n",
       "1  Santa Barbara Metropolitan Transit District  \n",
       "2     Santa Cruz Metropolitan Transit District  \n",
       "3                                    Metrolink  \n",
       "4                                        Metro  \n",
       "# .. may have more rows"
      ]
     },
     "execution_count": 3,
     "metadata": {},
     "output_type": "execute_result"
    }
   ],
   "source": [
    "(tbl.views.gtfs_agency_names()\n",
    "  >> filter(_.agency_name.str.contains(\"Metro\"))\n",
    "  >> show_query(simplify=True)\n",
    ")\n"
   ]
  },
  {
   "cell_type": "markdown",
   "id": "76646b9f",
   "metadata": {},
   "source": [
    "Note that here the pandas Series method `str.contains` corresponds to `regexp_contains` in Google BigQuery."
   ]
  }
 ],
 "metadata": {
  "jupytext": {
   "cell_metadata_filter": "-all",
   "formats": "md:myst",
   "text_representation": {
    "extension": ".md",
    "format_name": "myst",
    "format_version": 0.13,
    "jupytext_version": "1.10.3"
   }
  },
  "kernelspec": {
   "display_name": "Python 3 (ipykernel)",
   "language": "python",
   "name": "python3"
  },
  "language_info": {
   "codemirror_mode": {
    "name": "ipython",
    "version": 3
   },
   "file_extension": ".py",
   "mimetype": "text/x-python",
   "name": "python",
   "nbconvert_exporter": "python",
   "pygments_lexer": "ipython3",
   "version": "3.8.12"
  },
  "source_map": [
   14,
   39,
   50,
   58,
   64,
   71,
   77
  ]
 },
 "nbformat": 4,
 "nbformat_minor": 5
}