{
 "cells": [
  {
   "cell_type": "markdown",
   "id": "930002e1",
   "metadata": {},
   "source": [
    "(warehouse-table-naming)=\n",
    "# Table Naming\n",
    "The warehouse puts tables that are ready for end-users into the [`views` dataset](/datasets_and_tables/views/).\n",
    "They are named using a convention loosely based off of the Kimball method for modeling data,\n",
    "which separates data into underlying dimensions (measurements) and facts (calculations).\n",
    "\n",
    "Tables should be named using the following convention: `{domain}_{table_type}_{details}`.\n",
    "\n",
    "For example, take `gtfs_schedule_dim_feeds`:\n",
    "\n",
    "* The domain is `gtfs_schedule`.\n",
    "* The table type is `dim` for dimension.\n",
    "* The details are that it's about `feeds`.\n",
    "\n",
    "There are for common fact table types names currently used in the warehouse:\n",
    "\n",
    "* fact_daily_* - facts for some dimension represented every day.\n",
    "* fact_index_* - a \"bridge\" table, which can be used to reconstruct data on a given day.\n",
    "  For example, gtfs_schedule_fact_index_feed_trip_stops, lets people reconstruct a big join\n",
    "  between feeds, trips, stop_times, and stops for any day. This requires filtering on\n",
    "  calitp_extracted_at and calitp_deleted_at, then joining on each dimensional key (e.g. feed_key).\n",
    "* data_* - a bridge table that has been filtered and joined on dimensional keys for a given date."
   ]
  }
 ],
 "metadata": {
  "jupytext": {
   "cell_metadata_filter": "-all",
   "formats": "md:myst",
   "text_representation": {
    "extension": ".md",
    "format_name": "myst",
    "format_version": 0.13,
    "jupytext_version": "1.10.3"
   }
  },
  "kernelspec": {
   "display_name": "Python 3 (ipykernel)",
   "language": "python",
   "name": "python3"
  },
  "language_info": {
   "codemirror_mode": {
    "name": "ipython",
    "version": 3
   },
   "file_extension": ".py",
   "mimetype": "text/x-python",
   "name": "python",
   "nbconvert_exporter": "python",
   "pygments_lexer": "ipython3",
   "version": "3.8.12"
  },
  "source_map": [
   14
  ]
 },
 "nbformat": 4,
 "nbformat_minor": 5
}