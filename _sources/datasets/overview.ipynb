{
 "cells": [
  {
   "cell_type": "markdown",
   "id": "cb93024a",
   "metadata": {},
   "source": [
    "# DataSets\n",
    "## Overview\n",
    "\n",
    "| page | description | datasets |\n",
    "| ---- | ----------- | -------- |\n",
    "| [GTFS Schedule](./gtfs_schedule.md) | GTFS Schedule data for the current day | `gtfs_schedule`, `gtfs_schedule_history`, `gtfs_schedule_type2` |\n",
    "| [MST Payments](./mst_payments.md) | TODO | TODO |\n",
    "| [Transitstacks](./transitstacks.md) | TODO | `transitstacks`, `views.transitstacks` |\n",
    "| [Views](./views.md) | End-user friendly data for dashboards and metrics | E.g. `views.validation_*`, `views.gtfs_schedule_*` |\n",
    "\n",
    "### Querying data\n",
    "#### Using metabase dashboards\n",
    "<div style=\"position: relative; padding-bottom: 62.5%; height: 0;\"><iframe src=\"https://www.loom.com/embed/1dc0c085b12b4848a52523ef34397f71\" frameborder=\"0\" webkitallowfullscreen mozallowfullscreen allowfullscreen style=\"position: absolute; top: 0; left: 0; width: 100%; height: 100%;\"></iframe></div>\n",
    "\n",
    "#### Using Siuba\n",
    "Siuba is a tool that allows the same analysis code to run on a pandas DataFrame,\n",
    "as well as generate SQL for different databases.\n",
    "It supports most [pandas Series methods](https://pandas.pydata.org/pandas-docs/stable/reference/series.html) analysts use.\n",
    "See the [siuba docs](https://siuba.readthedocs.io) for more information.\n",
    "\n",
    "The examples below go through the basics of using siuba, collecting a database query to a local DataFrame,\n",
    "and showing SQL test queries that siuba code generates.\n",
    "\n",
    "##### Basic Query"
   ]
  },
  {
   "cell_type": "code",
   "execution_count": 1,
   "id": "d7a46139",
   "metadata": {},
   "outputs": [
    {
     "ename": "AttributeError",
     "evalue": "No such attribute views",
     "output_type": "error",
     "traceback": [
      "\u001b[0;31m---------------------------------------------------------------------------\u001b[0m",
      "\u001b[0;31mAttributeError\u001b[0m                            Traceback (most recent call last)",
      "\u001b[0;32m/tmp/ipykernel_1810/299587592.py\u001b[0m in \u001b[0;36m<module>\u001b[0;34m\u001b[0m\n\u001b[1;32m      5\u001b[0m \u001b[0;31m# query lastest validation notices, then filter for a single gtfs feed,\u001b[0m\u001b[0;34m\u001b[0m\u001b[0;34m\u001b[0m\u001b[0;34m\u001b[0m\u001b[0m\n\u001b[1;32m      6\u001b[0m \u001b[0;31m# and then count how often each code occurs\u001b[0m\u001b[0;34m\u001b[0m\u001b[0;34m\u001b[0m\u001b[0;34m\u001b[0m\u001b[0m\n\u001b[0;32m----> 7\u001b[0;31m (tbl.views.validation_notices()\n\u001b[0m\u001b[1;32m      8\u001b[0m     \u001b[0;34m>>\u001b[0m \u001b[0mfilter\u001b[0m\u001b[0;34m(\u001b[0m\u001b[0m_\u001b[0m\u001b[0;34m.\u001b[0m\u001b[0mcalitp_itp_id\u001b[0m \u001b[0;34m==\u001b[0m \u001b[0;36m10\u001b[0m\u001b[0;34m,\u001b[0m \u001b[0m_\u001b[0m\u001b[0;34m.\u001b[0m\u001b[0mcalitp_url_number\u001b[0m\u001b[0;34m==\u001b[0m\u001b[0;36m0\u001b[0m\u001b[0;34m)\u001b[0m\u001b[0;34m\u001b[0m\u001b[0;34m\u001b[0m\u001b[0m\n\u001b[1;32m      9\u001b[0m     \u001b[0;34m>>\u001b[0m \u001b[0mcount\u001b[0m\u001b[0;34m(\u001b[0m\u001b[0m_\u001b[0m\u001b[0;34m.\u001b[0m\u001b[0mcode\u001b[0m\u001b[0;34m)\u001b[0m\u001b[0;34m\u001b[0m\u001b[0;34m\u001b[0m\u001b[0m\n",
      "\u001b[0;32m/opt/hostedtoolcache/Python/3.8.12/x64/lib/python3.8/site-packages/calitp/tables.py\u001b[0m in \u001b[0;36m__getattr__\u001b[0;34m(self, k)\u001b[0m\n\u001b[1;32m     34\u001b[0m             \u001b[0;32mreturn\u001b[0m \u001b[0mself\u001b[0m\u001b[0;34m.\u001b[0m\u001b[0m_accessors\u001b[0m\u001b[0;34m[\u001b[0m\u001b[0mk\u001b[0m\u001b[0;34m]\u001b[0m\u001b[0;34m\u001b[0m\u001b[0;34m\u001b[0m\u001b[0m\n\u001b[1;32m     35\u001b[0m \u001b[0;34m\u001b[0m\u001b[0m\n\u001b[0;32m---> 36\u001b[0;31m         \u001b[0;32mraise\u001b[0m \u001b[0mAttributeError\u001b[0m\u001b[0;34m(\u001b[0m\u001b[0;34m\"No such attribute %s\"\u001b[0m \u001b[0;34m%\u001b[0m \u001b[0mk\u001b[0m\u001b[0;34m)\u001b[0m\u001b[0;34m\u001b[0m\u001b[0;34m\u001b[0m\u001b[0m\n\u001b[0m\u001b[1;32m     37\u001b[0m \u001b[0;34m\u001b[0m\u001b[0m\n\u001b[1;32m     38\u001b[0m     \u001b[0;32mdef\u001b[0m \u001b[0m__dir__\u001b[0m\u001b[0;34m(\u001b[0m\u001b[0mself\u001b[0m\u001b[0;34m)\u001b[0m\u001b[0;34m:\u001b[0m\u001b[0;34m\u001b[0m\u001b[0;34m\u001b[0m\u001b[0m\n",
      "\u001b[0;31mAttributeError\u001b[0m: No such attribute views"
     ]
    }
   ],
   "source": [
    "from myst_nb import glue\n",
    "from calitp.tables import tbl\n",
    "from siuba import _, filter, count, collect, show_query\n",
    "\n",
    "# query lastest validation notices, then filter for a single gtfs feed,\n",
    "# and then count how often each code occurs\n",
    "(tbl.views.validation_notices()\n",
    "    >> filter(_.calitp_itp_id == 10, _.calitp_url_number==0)\n",
    "    >> count(_.code)\n",
    ")"
   ]
  },
  {
   "cell_type": "markdown",
   "id": "9aa584f4",
   "metadata": {},
   "source": [
    "##### Collect Query Results\n",
    "Note that siuba by default prints out a preview of the SQL query results.\n",
    "In order to fetch the results of the query as a pandas DataFrame, run `collect()`."
   ]
  },
  {
   "cell_type": "code",
   "execution_count": null,
   "id": "65bac064",
   "metadata": {},
   "outputs": [],
   "source": [
    "tbl_agency_names = tbl.views.gtfs_agency_names() >> collect()\n",
    "\n",
    "# Use pandas .head() method to show first 5 rows of data\n",
    "tbl_agency_names.head()\n"
   ]
  },
  {
   "cell_type": "markdown",
   "id": "0ddfae2f",
   "metadata": {},
   "source": [
    "##### Show Query SQL\n",
    "While `collect()` fetches query results, `show_query()` prints out the SQL code that siuba generates."
   ]
  },
  {
   "cell_type": "code",
   "execution_count": null,
   "id": "545e2959",
   "metadata": {},
   "outputs": [],
   "source": [
    "(tbl.views.gtfs_agency_names()\n",
    "  >> filter(_.agency_name.str.contains(\"Metro\"))\n",
    "  >> show_query(simplify=True)\n",
    ")\n"
   ]
  },
  {
   "cell_type": "markdown",
   "id": "f33d2987",
   "metadata": {},
   "source": [
    "Note that here the pandas Series method `str.contains` corresponds to `regexp_contains` in Google BigQuery."
   ]
  }
 ],
 "metadata": {
  "jupytext": {
   "cell_metadata_filter": "-all",
   "formats": "md:myst",
   "text_representation": {
    "extension": ".md",
    "format_name": "myst",
    "format_version": 0.13,
    "jupytext_version": "1.10.3"
   }
  },
  "kernelspec": {
   "display_name": "Python 3 (ipykernel)",
   "language": "python",
   "name": "python3"
  },
  "language_info": {
   "codemirror_mode": {
    "name": "ipython",
    "version": 3
   },
   "file_extension": ".py",
   "mimetype": "text/x-python",
   "name": "python",
   "nbconvert_exporter": "python",
   "pygments_lexer": "ipython3",
   "version": "3.8.12"
  },
  "source_map": [
   14,
   40,
   51,
   59,
   65,
   72,
   78
  ]
 },
 "nbformat": 4,
 "nbformat_minor": 5
}