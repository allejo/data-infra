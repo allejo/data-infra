{
 "cells": [
  {
   "cell_type": "markdown",
   "id": "ef8c2a95",
   "metadata": {},
   "source": [
    "# Datasets and Tables (WIP)\n",
    "\n",
    "| page | description | datasets |\n",
    "| ---- | ----------- | -------- |\n",
    "| [GTFS Schedule](./gtfs_schedule.md) | GTFS Schedule data for the current day | `gtfs_schedule`, `gtfs_schedule_history`, `gtfs_schedule_type2` |\n",
    "| [MST Payments](./mst_payments.md) | TODO | TODO |\n",
    "| [Transitstacks](./transitdatabase.md) | A representation of Cal-ITPs internal knowledge about our Transit Operators in CA and various pieces of National Transit Database statistics for ease of use | `transitstacks`, `views.transitstacks` |\n",
    "| [Views](./views.md) | End-user friendly data for dashboards and metrics | E.g. `views.validation_*`, `views.gtfs_schedule_*` |"
   ]
  }
 ],
 "metadata": {
  "jupytext": {
   "cell_metadata_filter": "-all",
   "formats": "md:myst",
   "text_representation": {
    "extension": ".md",
    "format_name": "myst",
    "format_version": 0.13,
    "jupytext_version": "1.10.3"
   }
  },
  "kernelspec": {
   "display_name": "Python 3 (ipykernel)",
   "language": "python",
   "name": "python3"
  },
  "language_info": {
   "codemirror_mode": {
    "name": "ipython",
    "version": 3
   },
   "file_extension": ".py",
   "mimetype": "text/x-python",
   "name": "python",
   "nbconvert_exporter": "python",
   "pygments_lexer": "ipython3",
   "version": "3.8.12"
  },
  "source_map": [
   14
  ]
 },
 "nbformat": 4,
 "nbformat_minor": 5
}