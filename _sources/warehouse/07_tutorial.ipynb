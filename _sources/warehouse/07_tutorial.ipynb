{
 "cells": [
  {
   "cell_type": "markdown",
   "id": "089b820d",
   "metadata": {},
   "source": [
    "# Tutorial - Querying the CALITP Data Warehouse\n",
    "\n",
    "\n",
    "## Introduction\n",
    "\n",
    "\n",
    "The following content represents a tutorial introduction to simple queries that can be made to the calitp data warehouse, and the methods that can be used to perform them.\n",
    "\n",
    "\n",
    "### Example Queries\n",
    "\n",
    "\n",
    "The queries represented in the following tutorial are as follows:\n",
    "* **Number of Routes for a Given Agency Over Time** - observing a change in route numbers per agency across time\n",
    "* **Number of Stops for a Given Agency Over Time**\n",
    "* **Number of Stops Made Across all Trips for an Agency**\n",
    "* **For a Given Agency, on Each Day, Days Until the Feed Expires**\n",
    "* **Max Number of Stops a Trip Can Have, Per Agency**\n",
    "\n",
    "\n",
    "### Available Tools\n",
    "\n",
    "\n",
    "The tools that we can use to answer them are:\n",
    "* **SQL** - Using the BigQuery Browser\n",
    "* **Python**\n",
    "    * *siuba* - a convenient data analysis library in Python\n",
    "    * *calitp* - a personalized package incorporating calitp's unique needs\n",
    "    * *pandas* - a useful data analysis library, used sparsely in the examples below\n",
    "* **Metabase** - our business insights visualization tool\n",
    "\n",
    "\n",
    "### Relevant Tables\n",
    "\n",
    "\n",
    "#### Fact Tables\n",
    "These tables contain measurements, metrics, and facts used to answer the questions from the following perspectives:\n",
    "\n",
    "**Feeds**\n",
    "* views.**gtfs_schedule_fact_daily_feeds**\n",
    "    * (**Gtfs Schedule Fact Daily Feeds** in Metabase)\n",
    "\n",
    "**Routes**\n",
    "* views.**gtfs_schedule_fact_daily_feed_routes**\n",
    "    * (**Gtfs Schedule Fact Daily Feed Routes** in Metabase)\n",
    "\n",
    "**Stops**\n",
    "* views.**gtfs_schedule_fact_daily_feed_stops**\n",
    "    * (**Gtfs Schedule Fact Daily Feed Stops** in Metabase)\n",
    "\n",
    "**Trips**\n",
    "* views.**gtfs_schedule_data_feed_trip_stops_latest**\n",
    "    * (**Gtfs Schedule Data Feed Trip Stops Latest** in Metabase)\n",
    "\n",
    "#### Dimensional Tables\n",
    "These tables compliment the fact tables by providing additional descriptive attributes:\n",
    "* views.**gtfs_schedule_dim_feeds** - joining with this table is the most common way to append calitp_feed_name (our primary agency identifier) to fact tables\n",
    "    * (**Gtfs Schedule Dim Feeds** in Metabase)\n",
    "\n",
    "\n",
    "### Important Column Types and Columns\n",
    "\n",
    "\n",
    "- **Agency**\n",
    "    * **calitp_feed_name**\n",
    "        * (**Calitp Feed Name** in Metabase)\n",
    "        * Our primary agency identifier\n",
    "        * In most of the examples below, this is gathered from the table: views.**gtfs_schedule_dim_feeds**\n",
    "            * (**Gtfs Schedule Dim Feeds** in Metabase)\n",
    "- **Time**\n",
    "- **Geography**\n",
    "\n",
    "\n",
    "## Query Examples\n",
    "\n",
    "\n",
    "*Importing Relevant Python Libraries*"
   ]
  },
  {
   "cell_type": "code",
   "execution_count": 1,
   "id": "74b4299b",
   "metadata": {},
   "outputs": [
    {
     "ename": "ModuleNotFoundError",
     "evalue": "No module named 'calitp.magics'",
     "output_type": "error",
     "traceback": [
      "\u001b[0;31m---------------------------------------------------------------------------\u001b[0m",
      "\u001b[0;31mModuleNotFoundError\u001b[0m                       Traceback (most recent call last)",
      "\u001b[0;32m/tmp/ipykernel_1906/4003098136.py\u001b[0m in \u001b[0;36m<module>\u001b[0;34m\u001b[0m\n\u001b[1;32m      4\u001b[0m \u001b[0;32mfrom\u001b[0m \u001b[0msiuba\u001b[0m \u001b[0;32mimport\u001b[0m \u001b[0;34m*\u001b[0m\u001b[0;34m\u001b[0m\u001b[0;34m\u001b[0m\u001b[0m\n\u001b[1;32m      5\u001b[0m \u001b[0;32mimport\u001b[0m \u001b[0mpandas\u001b[0m \u001b[0;32mas\u001b[0m \u001b[0mpd\u001b[0m\u001b[0;34m\u001b[0m\u001b[0;34m\u001b[0m\u001b[0m\n\u001b[0;32m----> 6\u001b[0;31m \u001b[0;32mimport\u001b[0m \u001b[0mcalitp\u001b[0m\u001b[0;34m.\u001b[0m\u001b[0mmagics\u001b[0m\u001b[0;34m\u001b[0m\u001b[0;34m\u001b[0m\u001b[0m\n\u001b[0m\u001b[1;32m      7\u001b[0m \u001b[0mpd\u001b[0m\u001b[0;34m.\u001b[0m\u001b[0mset_option\u001b[0m\u001b[0;34m(\u001b[0m\u001b[0;34m\"display.max_rows\"\u001b[0m\u001b[0;34m,\u001b[0m \u001b[0;36m20\u001b[0m\u001b[0;34m)\u001b[0m\u001b[0;34m\u001b[0m\u001b[0;34m\u001b[0m\u001b[0m\n",
      "\u001b[0;31mModuleNotFoundError\u001b[0m: No module named 'calitp.magics'"
     ]
    }
   ],
   "source": [
    "from calitp.tables import tbl\n",
    "from myst_nb import glue\n",
    "from calitp import query_sql\n",
    "from siuba import *\n",
    "import pandas as pd\n",
    "import calitp.magics\n",
    "pd.set_option(\"display.max_rows\", 20)"
   ]
  },
  {
   "cell_type": "markdown",
   "id": "e50701f3",
   "metadata": {},
   "source": [
    "### 1. Number of Routes for a Given Agency Over Time\n",
    "\n",
    "\n",
    "### SQL\n",
    "\n",
    "\n",
    "**Primary Fact Table** → views.gtfs_schedule_fact_daily_feed_routes\n",
    "**Secondary Table** →  views.gtfs_schedule_dim_feeds\n",
    "\n",
    "*Time* → **date** (*GROUP BY*)\n",
    "*Geography* → **route_key** (the unique identifier for each record, to *COUNT* by)\n",
    "*Agency* → Join with table **views.gtfs_schedule_dim_feeds** on variable **feed_key** for **calitp_feed_name** (*GROUP BY*)"
   ]
  },
  {
   "cell_type": "code",
   "execution_count": null,
   "id": "a2ddaf1a",
   "metadata": {
    "tags": [
     "remove-input"
    ]
   },
   "outputs": [],
   "source": [
    "%%sql -m\n",
    "\n",
    "SELECT\n",
    "    calitp_feed_name,\n",
    "    date,\n",
    "    count(*) AS count_feeds\n",
    "FROM `views.gtfs_schedule_fact_daily_feed_routes`\n",
    "JOIN `views.gtfs_schedule_dim_feeds` USING (feed_key)\n",
    "WHERE\n",
    "    calitp_feed_name = \"Unitrans (0)\"\n",
    "GROUP BY\n",
    "    1, 2\n",
    "ORDER BY\n",
    "    date DESC\n",
    "LIMIT 10"
   ]
  },
  {
   "cell_type": "markdown",
   "id": "a2534662",
   "metadata": {},
   "source": [
    "### Metabase\n",
    "\n",
    "### Example 1:\n",
    "#### Primary Fact Table → Gtfs Schedule Fact Daily Feed Routes\n",
    "#### Secondary Table → Gtfs Schedule Dim Feeds\n",
    "\n",
    "*Time* → **Date** (*FILTER*)\n",
    "*Geography* → **Route Key** (the unique identifier for each record, to *COUNT* by)\n",
    "*Agency* → Metabase automatically joins with table **Gtfs Schedule Dim Feeds** on variable **Feed Key** to get **Calitp Feed Name** (*FILTER*)\n",
    "\n",
    "![Collection Matrix](assets/routes_agency_over_time.png)\n",
    "\n",
    "#### Siuba\n",
    "\n",
    "\n",
    "\n",
    "**Primary Fact Table** → views.gtfs_schedule_fact_daily_feed_routes\n",
    "**Secondary Table** →  views.gtfs_schedule_dim_feeds\n",
    "\n",
    "\n",
    "*Time* → **date** (*COUNT* by)\n",
    "*Geography* → **route_key** (the unique identifier for each record)\n",
    "*Agency* → Join with table **views.gtfs_schedule_dim_feeds** on variable **feed_key** for **calitp_feed_name** (*FILTER* by)"
   ]
  },
  {
   "cell_type": "code",
   "execution_count": null,
   "id": "2f410d41",
   "metadata": {},
   "outputs": [],
   "source": [
    "# Join to get CalITP Feed Names\n",
    "# Count routes by date and CalITP Feed Names, order by date, filter by specific calitp_feed_name\n",
    "(\n",
    "    tbl.views.gtfs_schedule_fact_daily_feed_routes()\n",
    "    >> left_join(_, tbl.views.gtfs_schedule_dim_feeds(), \"feed_key\")\n",
    "    >> filter(_.calitp_feed_name == \"Unitrans (0)\")\n",
    "    >> count(_.date)\n",
    "    >> arrange(_.date)\n",
    ")"
   ]
  },
  {
   "cell_type": "markdown",
   "id": "c08dac0f",
   "metadata": {},
   "source": [
    "### metabase\n",
    "### 2. Number of Stops for a Given Agency Over Time\n",
    "\n",
    "\n",
    "### SQL\n",
    "**Primary Fact Table** → views.gtfs_schedule_fact_daily_feed_stops\n",
    "**Secondary Table** →  views.gtfs_schedule_dim_feeds\n",
    "\n",
    "*Time* → **date** (*GROUP BY*)\n",
    "*Geography* → **stop_key** (the unique identifier for each record, to *COUNT* by)\n",
    "*Agency* → Join with table **views.gtfs_schedule_dim_feeds** on variable **feed_key** for **calitp_feed_name** (*GROUP BY*)"
   ]
  },
  {
   "cell_type": "code",
   "execution_count": null,
   "id": "f6398a55",
   "metadata": {
    "tags": [
     "remove-input"
    ]
   },
   "outputs": [],
   "source": [
    "%%sql -m\n",
    "    SELECT\n",
    "        calitp_feed_name,\n",
    "        date,\n",
    "        count(*) AS count_stops\n",
    "    FROM `views.gtfs_schedule_fact_daily_feed_stops`\n",
    "    JOIN `views.gtfs_schedule_dim_feeds` USING (feed_key)\n",
    "    WHERE\n",
    "        calitp_feed_name = \"Unitrans (0)\"\n",
    "    GROUP BY\n",
    "        1, 2\n",
    "    ORDER BY\n",
    "        date\n",
    "    LIMIT 10"
   ]
  },
  {
   "cell_type": "markdown",
   "id": "39b84cbc",
   "metadata": {},
   "source": [
    "### Metabase\n",
    "\n",
    "<!-- #region -->\n",
    "**Primary Fact Table** → Gtfs Schedule Fact Daily Feed Stops\n",
    "**Secondary Table** → Gtfs Schedule Dim Feeds\n",
    "\n",
    "\n",
    "*Time* → **Date** (*COUNT* by)\n",
    "*Geography* → **Stop Key** (the unique identifier for each record, to *COUNT* by)\n",
    "*Agency* → Metabase automatically joins with table **Gtfs Schedule Dim Feeds** on variable **Feed Key** to get **Calitp Feed Name** (*FILTER* by)\n",
    "<!-- #endregion -->\n",
    "\n",
    "![Collection Matrix](assets/stops_agency_over_time.png)\n",
    "\n",
    "#### Siuba\n",
    "\n",
    "\n",
    "**Primary Fact Table** → views.gtfs_schedule_fact_daily_feed_stops\n",
    "**Secondary Table** →  views.gtfs_schedule_dim_feeds\n",
    "\n",
    "*Time* → **date** (*GROUP BY*)\n",
    "*Geography* → **stop_key** (the unique identifier for each record, to *COUNT* by)\n",
    "*Agency* → Join with table **views.gtfs_schedule_dim_feeds** on variable **feed_key** for **calitp_feed_name** (*GROUP BY*)"
   ]
  },
  {
   "cell_type": "code",
   "execution_count": null,
   "id": "06b493c0",
   "metadata": {},
   "outputs": [],
   "source": [
    "## Join to get CalITP Feed Names\n",
    "## Count stops by date and CalITP Feed Names, order by date, filter by specific calitp_feed_name\n",
    "(\n",
    "    tbl.views.gtfs_schedule_fact_daily_feed_stops()\n",
    "    >> left_join(_, tbl.views.gtfs_schedule_dim_feeds(), \"feed_key\")\n",
    "    >> count(_.date, _.calitp_feed_name)\n",
    "    >> filter(_.calitp_feed_name == \"Unitrans (0)\")\n",
    "    >> arrange(_.date)\n",
    ")"
   ]
  },
  {
   "cell_type": "markdown",
   "id": "2c8f30bb",
   "metadata": {},
   "source": [
    "### 3. Number of Stops Made Across all Trips for an Agency\n",
    "\n",
    "\n",
    "#### SQL\n",
    "\n",
    "\n",
    "**Primary Fact Table** → views.gtfs_schedule_data_feed_trip_stops_latest\n",
    "\n",
    "*Time* → **no variable** - this table only has information for the current day\n",
    "*Geography* → **stop_time_key** (the unique identifier for each record, to *COUNT* by)\n",
    "*Agency* → **calitp_feed_name** (*GROUP BY*)"
   ]
  },
  {
   "cell_type": "code",
   "execution_count": null,
   "id": "437971d7",
   "metadata": {
    "tags": [
     "remove-input"
    ]
   },
   "outputs": [],
   "source": [
    "%%sql -m\n",
    "\n",
    "SELECT\n",
    "    calitp_feed_name,\n",
    "\n",
    "    count(*) AS n_trip_stops,\n",
    "    count(distinct(trip_id)) AS n_trips,\n",
    "    count(distinct(stop_id)) AS n_stops\n",
    "FROM `views.gtfs_schedule_data_feed_trip_stops_latest`\n",
    "WHERE\n",
    "    calitp_feed_name = \"Unitrans (0)\"\n",
    "GROUP BY\n",
    "    calitp_feed_name"
   ]
  },
  {
   "cell_type": "markdown",
   "id": "1b6459a2",
   "metadata": {},
   "source": [
    "#### Metabase\n",
    "\n",
    "\n",
    "**Primary Fact Table** → Gtfs Schedule Data Feed Trip Stops Latest\n",
    "**Secondary Table** → Gtfs Schedule Dim Feeds\n",
    "\n",
    "*Time* → **no variable** - this table only has information for the current day\n",
    "*Geography* → **Stop Time Key** (the unique identifier for each record, to *COUNT* by)\n",
    "*Agency* → Metabase automatically joins with table **Gtfs Schedule Dim Feeds** on variable **Feed Key** to get **Calitp Feed Name** (*FILTER* by)\n",
    "\n",
    "\n",
    "***Count of Trip Stops Made Across all Trips for an Agency***\n",
    "\n",
    "\n",
    "![Collection Matrix](assets/count_trip_stops.png)\n",
    "\n",
    "***Distinct Trips in Trip Stops***\n",
    "\n",
    "![Collection Matrix](assets/distinct_trips_in_trip_stops.png)\n",
    "\n",
    "***Distinct Stops in Trip Stops***\n",
    "\n",
    "![Collection Matrix](assets/distinct_stops_in_trip_stops.png)\n",
    "\n",
    "\n",
    "#### Siuba\n",
    "\n",
    "\n",
    "**Primary Fact Table** → views.gtfs_schedule_data_feed_trip_stops_latest\n",
    "\n",
    "*Time* → **no variable** - this table only has information for the current day\n",
    "*Geography* → **stop_time_key** (the unique identifier for each record, to *COUNT* by)\n",
    "*Agency* → **calitp_feed_name** (*GROUP BY*)"
   ]
  },
  {
   "cell_type": "code",
   "execution_count": null,
   "id": "1719b29e",
   "metadata": {},
   "outputs": [],
   "source": [
    "(\n",
    "    tbl.views.gtfs_schedule_data_feed_trip_stops_latest()\n",
    "    >> filter(_.calitp_feed_name == \"Unitrans (0)\")\n",
    "    >> summarize(\n",
    "        n_trips=_.trip_id.nunique(), n_stops=_.stop_id.nunique(), n=_.trip_id.size()\n",
    "    )\n",
    ")"
   ]
  },
  {
   "cell_type": "markdown",
   "id": "e7beeaaa",
   "metadata": {},
   "source": [
    "### 4. For a Given Agency, on Each Day, Days Until the Feed Expires\n",
    "\n",
    "\n",
    "#### SQL\n",
    "\n",
    "\n",
    "**Primary Fact Table** → views.gtfs_schedule_fact_daily_feeds\n",
    "**Secondary Table** → views.gtfs_schedule_dim_feeds\n",
    "\n",
    "*Time* → **date**, **feed_end_date**\n",
    "*Measure* → **days_until_feed_end_date**\n",
    "*Agency* → Join with table **views.gtfs_schedule_dim_feeds** on variable **feed_key** for **calitp_feed_name** (*GROUP BY*)"
   ]
  },
  {
   "cell_type": "code",
   "execution_count": null,
   "id": "66b81cdd",
   "metadata": {
    "tags": [
     "remove-input"
    ]
   },
   "outputs": [],
   "source": [
    "%%sql -m\n",
    "\n",
    "SELECT\n",
    "    calitp_feed_name,\n",
    "    date,\n",
    "    days_until_feed_end_date,\n",
    "    feed_end_date\n",
    "FROM views.gtfs_schedule_fact_daily_feeds\n",
    "JOIN views.gtfs_schedule_dim_feeds USING (feed_key)\n",
    "WHERE\n",
    "    date = \"2021-09-01\" AND calitp_feed_name = \"Unitrans (0)\""
   ]
  },
  {
   "cell_type": "markdown",
   "id": "3940d2ad",
   "metadata": {},
   "source": [
    "#### Metabase\n",
    "\n",
    "\n",
    "**Primary Fact Table** → Gtfs Schedule Fact Daily Feeds\n",
    "**Secondary Table** → Join: Gtfs Schedule Dim Feeds\n",
    "\n",
    "*Time* → **Date**, **Feed End Date**\n",
    "*Measure* → **Days Until Feed End Date**\n",
    "*Agency* → Join with table **Gtfs Schedule Dim Feeds** on variable **feed_key** for **Calitp Feed Name** (*FILTER* by) and **Feed End Date**\n",
    "\n",
    "**Columns to Select:**\n",
    "* Gtfs Schedule Fact Daily Feeds\n",
    "    * Date\n",
    "    * Days Until Feed End Date\n",
    "* Gtfs Schedule Dim Feeds\n",
    "    * Calitp Feed Name\n",
    "    * Feed End Date\n",
    "\n",
    "\n",
    "![Collection Matrix](assets/days_until_agency_feed_expires.png)\n",
    "\n",
    "#### Siuba\n",
    "\n",
    "\n",
    "**Primary Fact Table** → views.gtfs_schedule_fact_daily_feeds\n",
    "**Secondary Table** → views.gtfs_schedule_dim_feeds\n",
    "\n",
    "*Time* → **date** (*FILTER* by), **feed_end_date**\n",
    "*Measure* → **days_until_feed_end_date**\n",
    "*Agency* → Join with table **views.gtfs_schedule_dim_feeds** on variable **feed_key** for **calitp_feed_name** (*FILTER* by)"
   ]
  },
  {
   "cell_type": "code",
   "execution_count": null,
   "id": "4b58d3a5",
   "metadata": {},
   "outputs": [],
   "source": [
    "(\n",
    "    tbl.views.gtfs_schedule_fact_daily_feeds()\n",
    "    >> left_join(_, tbl.views.gtfs_schedule_dim_feeds(), \"feed_key\")\n",
    "    >> select(_.calitp_feed_name, _.date, _.days_until_feed_end_date, _.feed_end_date)\n",
    "    >> filter(_.date == \"2021-09-01\", _.calitp_feed_name == \"Unitrans (0)\")\n",
    ")"
   ]
  },
  {
   "cell_type": "markdown",
   "id": "8b033483",
   "metadata": {},
   "source": [
    "### 5. Max Number of Stops a Trip Can Have, Per Agency\n",
    "\n",
    "\n",
    "#### SQL\n",
    "\n",
    "\n",
    "**Primary Fact Table** →  views.gtfs_schedule_data_feed_trip_stops_latest\n",
    "**Secondary Table** →  views.gtfs_schedule_dim_feeds\n",
    "\n",
    "*Time* → **no variable**, finding max across all days\n",
    "*Geography* → **trip_id** (the unique identifier for each record, to *GROUP BY*)\n",
    "*Agency* → Join with table **views.gtfs_schedule_dim_feeds** on variable **feed_key** for **calitp_feed_name** (*GROUP BY*)"
   ]
  },
  {
   "cell_type": "code",
   "execution_count": null,
   "id": "f30cdcc8",
   "metadata": {
    "tags": [
     "remove-input"
    ]
   },
   "outputs": [],
   "source": [
    "%%sql -m\n",
    "WITH\n",
    "\n",
    "counting_stop_times AS (\n",
    "\n",
    "    -- count the number of stops each trip in each feed makes\n",
    "    SELECT\n",
    "        trip_id,\n",
    "        calitp_feed_name,\n",
    "        COUNT(*) AS n_trip_stop_times\n",
    "    FROM `views.gtfs_schedule_data_feed_trip_stops_latest`\n",
    "    GROUP BY\n",
    "        1, 2\n",
    ")\n",
    "\n",
    "-- calculate the max number of stops made by a feed's trip\n",
    "-- we filter to keep only the Unitrans feed for this example\n",
    "SELECT\n",
    "    calitp_feed_name,\n",
    "    MAX(n_trip_stop_times) AS max_n_trip_stop_times\n",
    "FROM\n",
    "    counting_stop_times\n",
    "WHERE\n",
    "     calitp_feed_name = \"Unitrans (0)\"\n",
    "GROUP BY\n",
    "    calitp_feed_name"
   ]
  },
  {
   "cell_type": "markdown",
   "id": "204074f7",
   "metadata": {},
   "source": [
    "#### Metabase\n",
    "\n",
    "\n",
    "**Primary Fact Table** → Gtfs Schedule Data Feed Trip Stops Latest\n",
    "**Secondary Table** → Gtfs Schedule Dim Feeds\n",
    "\n",
    "*Time* → **no variable**, finding max across all days\n",
    "*Geography* → **Trip ID** (the unique identifier for each record, to *COUNT* by)\n",
    "*Agency* → Metabase automatically joins with table **Gtfs Schedule Dim Feeds** on variable **Feed Key** to get **Calitp Feed Name** (*COUNT* by)\n",
    "\n",
    "\n",
    "![Collection Matrix](assets/max_stops_per_trip_by_agency.png)\n",
    "\n",
    "#### Siuba\n",
    "\n",
    "\n",
    "**Primary Fact Table** →  views.gtfs_schedule_data_feed_trip_stops_latest\n",
    "**Secondary Table** →  views.gtfs_schedule_dim_feeds\n",
    "\n",
    "*Time* → **no variable**, finding max across all days\n",
    "*Geography* → **trip_id** (the unique identifier for each record, to *GROUP BY*)\n",
    "*Agency* → Join with table **views.gtfs_schedule_dim_feeds** on variable **feed_key** for **calitp_feed_name** (*GROUP BY*)"
   ]
  },
  {
   "cell_type": "code",
   "execution_count": null,
   "id": "8b03962e",
   "metadata": {},
   "outputs": [],
   "source": [
    "(\n",
    "    tbl.views.gtfs_schedule_data_feed_trip_stops_latest()\n",
    "    >> count(_.trip_id, _.calitp_feed_name)\n",
    "    >> filter(_.calitp_feed_name == \"Unitrans (0)\")\n",
    "    >> summarize(n_max=_.n.max())\n",
    ")"
   ]
  }
 ],
 "metadata": {
  "jupytext": {
   "cell_metadata_filter": "-all",
   "formats": "md:myst",
   "text_representation": {
    "extension": ".md",
    "format_name": "myst",
    "format_version": 0.13,
    "jupytext_version": "1.10.3"
   }
  },
  "kernelspec": {
   "display_name": "Python 3 (ipykernel)",
   "language": "python",
   "name": "python3"
  },
  "language_info": {
   "codemirror_mode": {
    "name": "ipython",
    "version": 3
   },
   "file_extension": ".py",
   "mimetype": "text/x-python",
   "name": "python",
   "nbconvert_exporter": "python",
   "pygments_lexer": "ipython3",
   "version": "3.8.12"
  },
  "source_map": [
   14,
   95,
   103,
   118,
   136,
   163,
   173,
   188,
   204,
   230,
   240,
   254,
   270,
   306,
   314,
   329,
   343,
   376,
   383,
   398,
   427,
   452
  ]
 },
 "nbformat": 4,
 "nbformat_minor": 5
}