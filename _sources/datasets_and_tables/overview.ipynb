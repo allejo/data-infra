{
 "cells": [
  {
   "cell_type": "markdown",
   "id": "4e4a2fcf",
   "metadata": {},
   "source": [
    "(datasets-tables)=\n",
    "# Datasets & Tables\n",
    "Use the links below to navigate to pages that provide more information on individual datasets and tables.\n",
    "\n",
    "| page | description | datasets |\n",
    "| ---- | ----------- | -------- |\n",
    "| [Amplitude](./amplitude.md) | Data from Amplitude API for Benefits app | `amplitude.benefits_events `, `views.amplitude_benefits_events` |\n",
    "| [GTFS Schedule](./gtfs_schedule.md) | GTFS Schedule data for the current day | `gtfs_schedule`, `gtfs_schedule_history`, `gtfs_schedule_type2` |\n",
    "| [GTFS Realtime](./gtfs_rt.md) | GTFS Realtime data, collected every 20 seconds | `gtfs_rt`, `views.gtfs_rt_*` |\n",
    "| [MST Payments](./mst_payments.md) | TODO | TODO |\n",
    "| [Transit Database](./transitdatabase.md) | A representation of Cal-ITP's internal knowledge about our Transit Operators in CA and various pieces of National Transit Database statistics for ease of use | `airtable` (internal access only), `views.airtable_*` |\n",
    "| [Views](./views.md) | End-user friendly data for dashboards and metrics | E.g. `views.validation_*`, `views.gtfs_schedule_*` |"
   ]
  }
 ],
 "metadata": {
  "jupytext": {
   "cell_metadata_filter": "-all",
   "formats": "md:myst",
   "text_representation": {
    "extension": ".md",
    "format_name": "myst",
    "format_version": 0.13,
    "jupytext_version": "1.10.3"
   }
  },
  "kernelspec": {
   "display_name": "Python 3 (ipykernel)",
   "language": "python",
   "name": "python3"
  },
  "language_info": {
   "codemirror_mode": {
    "name": "ipython",
    "version": 3
   },
   "file_extension": ".py",
   "mimetype": "text/x-python",
   "name": "python",
   "nbconvert_exporter": "python",
   "pygments_lexer": "ipython3",
   "version": "3.8.12"
  },
  "source_map": [
   14
  ]
 },
 "nbformat": 4,
 "nbformat_minor": 5
}