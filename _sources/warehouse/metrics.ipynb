{
 "cells": [
  {
   "cell_type": "markdown",
   "id": "4078770a",
   "metadata": {},
   "source": [
    "# Metric Views\n",
    "\n",
    "A metric table (or view) is a table that calculates meaningful measures across time.\n",
    "It is defined by the three pieces below.\n",
    "\n",
    "* **The grain**: the business process that each row represents.\n",
    "* **Metric date columns**.\n",
    "    * `metric_date`: the day the metric describes.\n",
    "    * `metric_period`: the period of time the metric spans (e.g. day for a metric\n",
    "      that describes data across a single day; week for when `metric_date` describes data across a week.)\n",
    "* **Metric value columns**\n",
    "\n",
    "## Example: views.validation_code_metrics\n",
    "\n",
    "The `views.validation_code_metrics` table contains a count of each validator code triggered per GTFS Static data feed in the warehouse.\n",
    "\n",
    "| component | description |\n",
    "| --------- | ----------- |\n",
    "| grain | One row per GTFS Static feed (e.g. an agency's data), per validator code. |\n",
    "| metric date columns | Calculated for every day with daily periods. Note that `metric_period` is omitted, but should be set to \"day\". |\n",
    "| metric values | The column `n_notices` counts the number of notices per code. |"
   ]
  }
 ],
 "metadata": {
  "jupytext": {
   "cell_metadata_filter": "-all",
   "formats": "md:myst",
   "text_representation": {
    "extension": ".md",
    "format_name": "myst",
    "format_version": 0.13,
    "jupytext_version": "1.10.3"
   }
  },
  "kernelspec": {
   "display_name": "Python 3 (ipykernel)",
   "language": "python",
   "name": "python3"
  },
  "language_info": {
   "codemirror_mode": {
    "name": "ipython",
    "version": 3
   },
   "file_extension": ".py",
   "mimetype": "text/x-python",
   "name": "python",
   "nbconvert_exporter": "python",
   "pygments_lexer": "ipython3",
   "version": "3.8.12"
  },
  "source_map": [
   14
  ]
 },
 "nbformat": 4,
 "nbformat_minor": 5
}