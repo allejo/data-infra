{
 "cells": [
  {
   "cell_type": "markdown",
   "id": "65c4c971",
   "metadata": {},
   "source": [
    "# Agency GTFS Feeds\n",
    "\n",
    "Feed information is stored in [airflow/data/agencies.yml](https://github.com/cal-itp/data-infra/blob/main/airflow/data/agencies.yml).\n",
    "This file is then used by our Airflow data pipeline to download feeds, and load them into the warehouse.\n",
    "\n",
    "Each agency feed entry includes these fields:\n",
    "\n",
    "* `agency_name`: Human friendly name for the agency\n",
    "* `itp_id`: The California Integrated Travel Project ID\n",
    "* URLs such as `gtfs_schedule_url`, and those for realtime feeds.\n",
    "\n",
    "## Walkthrough of adding a feed\n",
    "\n",
    "The screencast below walks through the process of adding a new feed.\n",
    "\n",
    "<div style=\"position: relative; padding-bottom: 62.5%; height: 0;\"><iframe src=\"https://www.loom.com/embed/39f0100b43c4457db81b62249f162128\" frameborder=\"0\" webkitallowfullscreen mozallowfullscreen allowfullscreen style=\"position: absolute; top: 0; left: 0; width: 100%; height: 100%;\"></iframe></div>\n",
    "\n",
    "## Finding the ITP ID\n",
    "\n",
    "Entries must include the correct ITP ID for an agency.\n",
    "These can be found on the [Primary List of California Transit Providers](https://docs.google.com/spreadsheets/d/105oar4q_Z3yihDeUlP-VnYpJ0N9Mfs7-q4TnribqYLU/edit?usp=sharing).\n",
    "\n",
    "## Including API Keys\n",
    "\n",
    "If the URL for a GTFS feed requires an API key, you can include using these steps:\n",
    "\n",
    "* Add a unique name, and the key to [this private spreadsheet](https://docs.google.com/spreadsheets/d/1Fp7sesSMS6VOIndTLTKcyyN2qHj6najKAaN-I9_3SFo/edit?usp=sharing).\n",
    "* Include the API key in your url by using `{{ MY_KEY_NAME }}`, where `MY_KEY_NAME`\n",
    "  is the unique name used in the spreadsheet.\n",
    "\n",
    "Below is an example entry.\n",
    "\n",
    "```yaml\n",
    "ac-transit:\n",
    "  agency_name: AC Transit\n",
    "  feeds:\n",
    "    - gtfs_schedule_url: https://api.actransit.org/transit/gtfs/download?token={{ AC_TRANSIT_API_KEY }}\n",
    "      gtfs_rt_vehicle_positions_url: https://api.actransit.org/gtfsrt/vehicles?token={{ AC_TRANSIT_API_KEY }}\n",
    "      gtfs_rt_service_alerts_url: https://api.actransit.org/gtfsrt/alerts?token={{ AC_TRANSIT_API_KEY }}\n",
    "      gtfs_rt_trip_updates_url: https://api.actransit.org/gtfsrt/tripupdates?token={{ AC_TRANSIT_API_KEY }}\n",
    "  itp_id: 4\n",
    "```\n",
    "\n",
    "## Deploying to Pipeline\n",
    "\n",
    "Every time the main branch of cal-itp/data-infra is updated on github,\n",
    "[this github action][action] swaps in the API keys and pushes to our Cloud Composer's data bucket.\n",
    "\n",
    "['action']: (https://github.com/cal-itp/data-infra/blob/main/.github/workflows/update_gcloud_requirements.yml)"
   ]
  }
 ],
 "metadata": {
  "jupytext": {
   "cell_metadata_filter": "-all",
   "formats": "md:myst",
   "text_representation": {
    "extension": ".md",
    "format_name": "myst",
    "format_version": 0.13,
    "jupytext_version": "1.10.3"
   }
  },
  "kernelspec": {
   "display_name": "Python 3 (ipykernel)",
   "language": "python",
   "name": "python3"
  },
  "language_info": {
   "codemirror_mode": {
    "name": "ipython",
    "version": 3
   },
   "file_extension": ".py",
   "mimetype": "text/x-python",
   "name": "python",
   "nbconvert_exporter": "python",
   "pygments_lexer": "ipython3",
   "version": "3.8.12"
  },
  "source_map": [
   14
  ]
 },
 "nbformat": 4,
 "nbformat_minor": 5
}