{
 "cells": [
  {
   "cell_type": "markdown",
   "id": "e1822208",
   "metadata": {},
   "source": [
    "(helpful-sql-snippets)=\n",
    "# Helpful SQL Snippets\n",
    "For information on how to query SQL in JupyterHub notebooks, refer to [this documentation](querying-sql-jupyterhub).\n",
    "## Fetching historical data for specific dates\n",
    "\n",
    "Some tables in the warehouse--like those in `gtfs_schedule_type2`--capture the full\n",
    "history of data, as it existed every day in the past. In order to do this, they\n",
    "don't save copies of the full data every day, but log changes to the data using\n",
    "a `calitp_extracted_at`, and `calitp_deleted_at` column.\n",
    "\n",
    "In order to get the data for a given day, you need to filter to keep data where..\n",
    "\n",
    "* `calitp_extracted_at` was earlier than or on the target date.\n",
    "* `calitp_deleted_at` is later than the target date.\n",
    "\n",
    "## A single date"
   ]
  },
  {
   "cell_type": "code",
   "execution_count": 1,
   "id": "7746a0dd",
   "metadata": {
    "tags": [
     "remove-input"
    ]
   },
   "outputs": [],
   "source": [
    "from calitp.tables import tbl\n",
    "from myst_nb import glue\n",
    "from calitp import query_sql\n",
    "from siuba import *\n",
    "import pandas as pd\n",
    "import calitp.magics"
   ]
  },
  {
   "cell_type": "code",
   "execution_count": 2,
   "id": "f00c7906",
   "metadata": {
    "tags": [
     "remove-input"
    ]
   },
   "outputs": [
    {
     "data": {
      "text/markdown": [
       "```SQL\n",
       "SELECT *\n",
       "FROM `gtfs_schedule_type2.feed_info`\n",
       "WHERE\n",
       "    calitp_extracted_at >= \"2021-06-01\"\n",
       "    AND COALESCE(calitp_deleted_at, \"2099-01-01\") > \"2021-06-01\"\n",
       "\n",
       "```"
      ],
      "text/plain": [
       "<IPython.core.display.Markdown object>"
      ]
     },
     "metadata": {},
     "output_type": "display_data"
    }
   ],
   "source": [
    "%%sql -m -o * --quiet\n",
    "SELECT *\n",
    "FROM `gtfs_schedule_type2.feed_info`\n",
    "WHERE\n",
    "    calitp_extracted_at >= \"2021-06-01\"\n",
    "    AND COALESCE(calitp_deleted_at, \"2099-01-01\") > \"2021-06-01\""
   ]
  },
  {
   "cell_type": "markdown",
   "id": "1e2df2d6",
   "metadata": {},
   "source": [
    "Note that `COALESCE` lets us fill in NULL deleted at values to be far in the future.\n",
    "This is used because when deleted at is missing, it reflects the most recent data\n",
    "(i.e. data that hasn't been deleted yet).\n",
    "Because `NULL < \"2021-06-01\"` is `false`, we need to fill it in with a far-future date,\n",
    "so it evaluates to `true`.\n",
    "\n",
    "## Multiple dates\n",
    "\n",
    "In order to do it for a range of dates, you can use a JOIN. This is shown below."
   ]
  },
  {
   "cell_type": "code",
   "execution_count": 3,
   "id": "a2d35244",
   "metadata": {
    "tags": [
     "remove-input"
    ]
   },
   "outputs": [
    {
     "data": {
      "text/markdown": [
       "```SQL\n",
       "SELECT *\n",
       "FROM `gtfs_schedule_type2.feed_info` FI\n",
       "JOIN `views.dim_date` D\n",
       "    ON FI.calitp_extracted_at <= D.full_date\n",
       "        AND COALESCE(FI.calitp_deleted_at, \"2099-01-01\") > D.full_date\n",
       "WHERE\n",
       "    D.full_date BETWEEN \"2021-06-01\" AND \"2021-06-07\"\n",
       "\n",
       "```"
      ],
      "text/plain": [
       "<IPython.core.display.Markdown object>"
      ]
     },
     "metadata": {},
     "output_type": "display_data"
    }
   ],
   "source": [
    "%%sql -m -o * --quiet\n",
    "SELECT *\n",
    "FROM `gtfs_schedule_type2.feed_info` FI\n",
    "JOIN `views.dim_date` D\n",
    "    ON FI.calitp_extracted_at <= D.full_date\n",
    "        AND COALESCE(FI.calitp_deleted_at, \"2099-01-01\") > D.full_date\n",
    "WHERE\n",
    "    D.full_date BETWEEN \"2021-06-01\" AND \"2021-06-07\""
   ]
  }
 ],
 "metadata": {
  "jupytext": {
   "cell_metadata_filter": "-all",
   "formats": "md:myst",
   "text_representation": {
    "extension": ".md",
    "format_name": "myst",
    "format_version": 0.13,
    "jupytext_version": "1.10.3"
   }
  },
  "kernelspec": {
   "display_name": "Python 3 (ipykernel)",
   "language": "python",
   "name": "python3"
  },
  "language_info": {
   "codemirror_mode": {
    "name": "ipython",
    "version": 3
   },
   "file_extension": ".py",
   "mimetype": "text/x-python",
   "name": "python",
   "nbconvert_exporter": "python",
   "pygments_lexer": "ipython3",
   "version": "3.8.12"
  },
  "source_map": [
   14,
   32,
   42,
   50,
   62
  ]
 },
 "nbformat": 4,
 "nbformat_minor": 5
}